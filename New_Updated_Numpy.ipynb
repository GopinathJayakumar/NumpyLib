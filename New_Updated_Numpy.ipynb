{
 "cells": [
  {
   "cell_type": "markdown",
   "metadata": {},
   "source": [
    "# NumPy Cheat Sheet\n",
    "> #### [NumPy!](http://www.numpy.org) is the fundamental package for scientific computing with Python.\n",
    "<br>\n",
    "\n",
    "### Installation\n",
    "If you don't already have it **installed**, you can do so using Pip or Anaconda: \n",
    "<br>\n",
    "<img src=\"images/1.jpg\"/>\n",
    "<br>\n",
    "<br>\n",
    "This cheat sheet acts as a intro to Python for data science."
   ]
  },
  {
   "cell_type": "markdown",
   "metadata": {},
   "source": [
    "# Basics\n",
    "---\n",
    "One of the most commonly used functions of NumPy are NumPy arrays: The essential difference between lists and NumPy arrays is functionality and speed. lists give you basic operation, but NumPy adds FFTs, convolutions, fast searching, basic statistics, linear algebra, histograms, etc.<br><br>\n",
    "The most important difference for data science is the ability to do **element-wise calculations** with *NumPy arrays*. <br><br>\n",
    "\n",
    "**axis 0** always refers to row<br>\n",
    "**axis 1** always refers to column"
   ]
  },
  {
   "cell_type": "markdown",
   "metadata": {},
   "source": [
    "**Operator** | **Description** | **Documentation**\n",
    "--- | --- | ---\n",
    "`np.array([1,2,3])` | 1d array | [link](https://docs.scipy.org/doc/numpy/reference/generated/numpy.array.html#numpy.array)\n",
    "`np.array([(1,2,3),(4,5,6)` | 2d array | `see above`\n",
    "np.arange(start,stop,step) | range array | [link](https://docs.scipy.org/doc/numpy/reference/generated/numpy.array.html#numpy.array)"
   ]
  },
  {
   "cell_type": "markdown",
   "metadata": {},
   "source": [
    " * ## Placeholders\n"
   ]
  },
  {
   "cell_type": "markdown",
   "metadata": {},
   "source": [
    "**Operator** | **Description** | **Documentation**\n",
    "--- | --- | ---\n",
    "`np.linspace(0,2,9)` | Add evenly spaced values btw interval to array of length | [link](https://docs.scipy.org/doc/numpy/reference/generated/numpy.linspace.html)\n",
    "`np.zeros((1,2))` | Create and array filled with zeros | [link](https://docs.scipy.org/doc/numpy/reference/generated/numpy.zeros.html)\n",
    "`np.ones((1,2))` | Creates an array filled with ones | [link](https://docs.scipy.org/doc/numpy/reference/generated/numpy.ones.html#numpy.ones)\n",
    "`np.random.random((5,5))` | Creates random array | [link](https://docs.scipy.org/doc/numpy-1.15.0/reference/generated/numpy.random.random.html)\n",
    "`np.empty((2,2))` | Creates an empty array | [link](https://docs.scipy.org/doc/numpy/reference/generated/numpy.empty.html)"
   ]
  },
  {
   "cell_type": "markdown",
   "metadata": {},
   "source": [
    "> ## Examples"
   ]
  },
  {
   "cell_type": "code",
   "execution_count": 50,
   "metadata": {},
   "outputs": [
    {
     "name": "stdout",
     "output_type": "stream",
     "text": [
      "[0 1 2]\n",
      "********************\n",
      "[0. 1. 2.]\n",
      "********************\n",
      "[3 4 5 6]\n",
      "********************\n",
      "[3 5]\n",
      "********************\n"
     ]
    }
   ],
   "source": [
    "import numpy as np\n",
    "\n",
    "# 1 dimensional\n",
    "x = np.array([1,2,3])\n",
    "# 2 dimensional\n",
    "y = np.array([(1,2,3),(4,5,6)])\n",
    "\n",
    "x = np.arange(3)\n",
    "print(x)\n",
    "print(\"*\"*20)\n",
    "\n",
    "y = np.arange(3.0)\n",
    "print(y)\n",
    "print(\"*\"*20)\n",
    "\n",
    "x = np.arange(3,7)\n",
    "print(x)\n",
    "print(\"*\"*20)\n",
    "\n",
    "y = np.arange(3,7,2)\n",
    "print(y)\n",
    "print(\"*\"*20)"
   ]
  },
  {
   "cell_type": "markdown",
   "metadata": {},
   "source": [
    "# Array\n",
    "---\n",
    "\n",
    " * ## Array Properties"
   ]
  },
  {
   "cell_type": "markdown",
   "metadata": {},
   "source": [
    "**Syntax** | **Description** | **Documentation**\n",
    "--- | --- | ---\n",
    "`array.shape` | Dimensions (Rows,Columns) | [link](https://docs.scipy.org/doc/numpy/reference/generated/numpy.ndarray.shape.html)\n",
    "`len(array)` | Length of Array | [link](https://docs.python.org/3.5/library/functions.html#len)\n",
    "`array.ndim` | Number of Array Dimensions | [link](https://docs.scipy.org/doc/numpy/reference/generated/numpy.ndarray.ndim.html)\n",
    "`array.size` | Number of Array Elements | [link](https://docs.scipy.org/doc/numpy/reference/generated/numpy.ndarray.size.html)\n",
    "`array.dtype` | Data Type | [link](https://docs.scipy.org/doc/numpy/reference/arrays.dtypes.html)\n",
    "`array.astype(type)` | Converts to Data Type | [link](https://docs.scipy.org/doc/numpy/reference/generated/numpy.ndarray.astype.html)\n",
    "`type(array)` | Type of Array | [link](https://docs.scipy.org/doc/numpy/user/basics.types.html)"
   ]
  },
  {
   "cell_type": "markdown",
   "metadata": {},
   "source": [
    "* ## Copying/Sorting"
   ]
  },
  {
   "cell_type": "markdown",
   "metadata": {},
   "source": [
    "**Operator** | **Description** | **Documentation**\n",
    "--- | --- | ---\n",
    "`np.copy(array)` | Creates copy of array | [link](https://docs.scipy.org/doc/numpy/reference/generated/numpy.copy.html)\n",
    "`other = array.copy()` | Creates deep copy of array | see above\n",
    "`array.sort()` | Creates an array filled with ones | [link](https://docs.scipy.org/doc/numpy/reference/generated/numpy.sort.html)\n",
    "`array.sort(axis=0)` | Creates random array | see above"
   ]
  },
  {
   "cell_type": "markdown",
   "metadata": {},
   "source": [
    "> ## Examples"
   ]
  },
  {
   "cell_type": "code",
   "execution_count": 51,
   "metadata": {},
   "outputs": [
    {
     "name": "stdout",
     "output_type": "stream",
     "text": [
      "[ 1  2  3  4  5  6  7  8  9 10]\n"
     ]
    }
   ],
   "source": [
    "import numpy as np\n",
    "\n",
    "# Sort sorts in ascending order\n",
    "y = np.array([10, 9, 8, 7, 6, 5, 4, 3, 2, 1])\n",
    "y.sort()\n",
    "print(y)"
   ]
  },
  {
   "cell_type": "markdown",
   "metadata": {},
   "source": [
    "# Array Manipulation Routines\n",
    "---\n",
    "\n",
    "* ## Adding or Removing Elements"
   ]
  },
  {
   "cell_type": "markdown",
   "metadata": {},
   "source": [
    "**Operator** | **Description** | **Documentation**\n",
    "--- | --- | ---\n",
    "`np.append(a,b)` | Append items to array | [link](https://docs.scipy.org/doc/numpy/reference/generated/numpy.append.html)\n",
    "`np.insert(array, 1, 2, axis)` | Insert items into array at axis 0 or 1 | [link](https://docs.scipy.org/doc/numpy/reference/generated/numpy.insert.html)\n",
    "`np.resize((2,4))` | Resize array to shape(2,4) | [link](https://docs.scipy.org/doc/numpy/reference/generated/numpy.resize.html)\n",
    "`np.delete(array,1,axis)` | Deletes items from array | [link](https://docs.scipy.org/doc/numpy/reference/generated/numpy.delete.html)"
   ]
  },
  {
   "cell_type": "markdown",
   "metadata": {},
   "source": [
    "> ## Example"
   ]
  },
  {
   "cell_type": "code",
   "execution_count": 52,
   "metadata": {},
   "outputs": [
    {
     "name": "stdout",
     "output_type": "stream",
     "text": [
      "[1 2 3 4 5 6 7 8 9]\n",
      "********************\n",
      "[1 2 4 5 6 7 8 9]\n"
     ]
    }
   ],
   "source": [
    "import numpy as np\n",
    "\n",
    "# Append items to array\n",
    "a = np.array([(1, 2, 3),(4, 5, 6)])\n",
    "b = np.append(a, [(7, 8, 9)])\n",
    "print(b)\n",
    "print(\"*\"*20)\n",
    "\n",
    "# Remove index 2 from previous array\n",
    "print(np.delete(b, 2))"
   ]
  },
  {
   "cell_type": "markdown",
   "metadata": {},
   "source": [
    "* ## Combining Arrays"
   ]
  },
  {
   "cell_type": "markdown",
   "metadata": {},
   "source": [
    "**Operator** | **Description** | **Documentation**\n",
    "--- | --- | ---\n",
    "`np.concatenate((a,b),axis=0)` | Concatenates 2 arrays, adds to end | [link](https://docs.scipy.org/doc/numpy/reference/generated/numpy.concatenate.html)\n",
    "`np.vstack((a,b))` | Stack array row-wise | [link](https://docs.scipy.org/doc/numpy/reference/generated/numpy.vstack.html)\n",
    "`np.hstack((a,b))` | Stack array column wise | [link](https://docs.scipy.org/doc/numpy/reference/generated/numpy.hstack.html#numpy.hstack)\n"
   ]
  },
  {
   "cell_type": "markdown",
   "metadata": {},
   "source": [
    "> ## Example"
   ]
  },
  {
   "cell_type": "code",
   "execution_count": 53,
   "metadata": {},
   "outputs": [
    {
     "name": "stdout",
     "output_type": "stream",
     "text": [
      "[[1 3 5]\n",
      " [2 4 6]]\n",
      "********************\n",
      "[1 3 5 2 4 6]\n"
     ]
    }
   ],
   "source": [
    "import numpy as np\n",
    "\n",
    "a = np.array([1, 3, 5])\n",
    "b = np.array([2, 4, 6])\n",
    "\n",
    "# Stack two arrays row-wise\n",
    "print(np.vstack((a,b)))\n",
    "print(\"*\"*20)\n",
    "\n",
    "# Stack two arrays column-wise\n",
    "print(np.hstack((a,b)))\n"
   ]
  },
  {
   "cell_type": "markdown",
   "metadata": {},
   "source": [
    "* ## Splitting Arrays"
   ]
  },
  {
   "cell_type": "markdown",
   "metadata": {},
   "source": [
    "**Operator** | **Description** | **Documentation**\n",
    "--- | --- | ---\n",
    "`numpy.split()` |  | [link](https://docs.scipy.org/doc/numpy/reference/generated/numpy.split.html)\n",
    "`np.array_split(array, 3)` | Split an array in sub-arrays of (nearly) identical size | [link](https://docs.scipy.org/doc/numpy/reference/generated/numpy.array_split.html#numpy.array_split)\n",
    "`numpy.hsplit(array, 3)` | Split the array horizontally at 3rd index | [link](https://docs.scipy.org/doc/numpy/reference/generated/numpy.hsplit.html#numpy.hsplit)"
   ]
  },
  {
   "cell_type": "markdown",
   "metadata": {},
   "source": [
    "> ## Example"
   ]
  },
  {
   "cell_type": "code",
   "execution_count": 54,
   "metadata": {},
   "outputs": [
    {
     "name": "stdout",
     "output_type": "stream",
     "text": [
      "[array([1, 2, 3]), array([4, 5, 6]), array([7, 8])]\n"
     ]
    }
   ],
   "source": [
    "# Split array into groups of ~3\n",
    "\n",
    "a = np.array([1, 2, 3, 4, 5, 6, 7, 8])\n",
    "print(np.array_split(a, 3))"
   ]
  },
  {
   "cell_type": "markdown",
   "metadata": {},
   "source": [
    "* ## Shaping Arrays"
   ]
  },
  {
   "cell_type": "markdown",
   "metadata": {},
   "source": [
    "**Operator** | **Description** | **Documentation**\n",
    "--- | --- | ---\n",
    "`other = ndarray.flatten()` | Flattens a 2d array to 1d | [link](https://docs.scipy.org/doc/numpy/reference/generated/numpy.split.html)\n",
    "`numpy.flip()` | Flips order of elements in 1D array |\n",
    "`np.ndarray[::-1]` | Same as above | \n",
    "`reshape` |\n",
    "`squeeze` |\n",
    "`expand_dims` |"
   ]
  },
  {
   "cell_type": "markdown",
   "metadata": {},
   "source": [
    "* ## Misc"
   ]
  },
  {
   "cell_type": "markdown",
   "metadata": {},
   "source": [
    "**Operator** | **Description** | **Documentation**\n",
    "--- | --- | ---\n",
    "`other = ndarray.flatten()` | Flattens a 2d array to 1d | [link](https://docs.scipy.org/doc/numpy/reference/generated/numpy.ndarray.flatten.html)  \n",
    "`array = np.transpose(other)` \n",
    "`array.T` | Transpose array | [link](https://docs.scipy.org/doc/numpy/reference/generated/numpy.transpose.html)\n",
    "`inverse = np.linalg.inv(matrix)` | Inverse of a given matrix | [link](https://docs.scipy.org/doc/numpy/reference/generated/numpy.linalg.inv.html)\n"
   ]
  },
  {
   "cell_type": "markdown",
   "metadata": {},
   "source": [
    "> ## Example"
   ]
  },
  {
   "cell_type": "code",
   "execution_count": 55,
   "metadata": {},
   "outputs": [
    {
     "data": {
      "text/plain": [
       "array([[ 0.4, -0.1],\n",
       "       [-0.2,  0.3]])"
      ]
     },
     "execution_count": 55,
     "metadata": {},
     "output_type": "execute_result"
    }
   ],
   "source": [
    "# Find inverse of a given matrix\n",
    "\n",
    "np.linalg.inv([[3,1],[2,4]])"
   ]
  },
  {
   "cell_type": "markdown",
   "metadata": {},
   "source": [
    "# Mathematics\n",
    "---\n",
    "* ## Operations"
   ]
  },
  {
   "cell_type": "markdown",
   "metadata": {},
   "source": [
    "**Operator** | **Description** | **Documentation**\n",
    "--- | --- | ---\n",
    "`np.add(x,y) or x + y` | Addition | [link](https://docs.scipy.org/doc/numpy/reference/generated/numpy.add.html)  \n",
    "`np.substract(x,y) or x - y` | Subtraction | [link](https://docs.scipy.org/doc/numpy/reference/generated/numpy.subtract.html#numpy.subtract)\n",
    "`np.divide(x,y) or x / y` | Division | [link](https://docs.scipy.org/doc/numpy/reference/generated/numpy.divide.html#numpy.divide)\n",
    "`np.multiply(x,y) or x * y` | Multiplication | [link](https://docs.scipy.org/doc/numpy/reference/generated/numpy.multiply.html#numpy.multiply)\n",
    "`np.sqrt(x)` | Square Root | [link](https://docs.scipy.org/doc/numpy/reference/generated/numpy.sqrt.html#numpy.sqrt)\n",
    "`np.sin(x)` | Element-wise sine | [link](https://docs.scipy.org/doc/numpy/reference/generated/numpy.sin.html#numpy.sin)\n",
    "`np.cos(x)` | Element-wise cosine | [link](https://docs.scipy.org/doc/numpy/reference/generated/numpy.cos.html#numpy.cos)\n",
    "`np.log(x)` | Element-wise natural log | [link](https://docs.scipy.org/doc/numpy/reference/generated/numpy.log.html#numpy.log)\n",
    "`np.dot(x,y)` | Dot product | [link](https://docs.scipy.org/doc/numpy/reference/generated/numpy.dot.html)\n",
    "`np.roots([1,0,-4])` | Roots of a given polynomial coefficients | [link](https://docs.scipy.org/doc/numpy/reference/generated/numpy.roots.html)"
   ]
  },
  {
   "cell_type": "markdown",
   "metadata": {},
   "source": [
    "   **Remember**: NumPy array operations work element-wise."
   ]
  },
  {
   "cell_type": "markdown",
   "metadata": {},
   "source": [
    "> ## Example"
   ]
  },
  {
   "cell_type": "code",
   "execution_count": 56,
   "metadata": {},
   "outputs": [
    {
     "name": "stdout",
     "output_type": "stream",
     "text": [
      "[[2 4 6]\n",
      " [5 7 9]]\n",
      "*************************\n",
      "[1. 1.]\n",
      "*************************\n",
      "[ 2. -2.]\n"
     ]
    }
   ],
   "source": [
    "# If a 1d array is added to a 2d array (or the other way), NumPy\n",
    "# chooses the array with smaller dimension and adds it to the one\n",
    "# with bigger dimension\n",
    "\n",
    "a = np.array([1, 2, 3])\n",
    "b = np.array([(1, 2, 3), (4, 5, 6)])\n",
    "\n",
    "print(np.add(a, b))\n",
    "print(\"*\"*25)\n",
    "     \n",
    "# Example of np.roots\n",
    "\n",
    "# Consider a polynomial function (x-1)^2 = x^2 - 2*x + 1\n",
    "# Whose roots are 1,1\n",
    "root = np.roots([1,-2,1])\n",
    "print(root)\n",
    "print(\"*\"*25)\n",
    "\n",
    "\n",
    "# Similarly x^2 - 4 = 0 has roots as x=±2\n",
    "root = np.roots([1,0,-4])\n",
    "print(root)"
   ]
  },
  {
   "cell_type": "markdown",
   "metadata": {},
   "source": [
    "* ## Operations"
   ]
  },
  {
   "cell_type": "markdown",
   "metadata": {},
   "source": [
    "**Operator** | **Description** | **Documentation**\n",
    "--- | --- | ---\n",
    "`==` | Equal | [link](https://docs.python.org/3/library/stdtypes.html)  \n",
    "`!=` | Not equal | [link](https://docs.python.org/3/library/stdtypes.html)\n",
    "`<` | Smaller than | [link](https://docs.python.org/3/library/stdtypes.html)\n",
    "`>` | Greater than | [link](https://docs.python.org/3/library/stdtypes.html)\n",
    "`<=` | Smaller than or equal | [link](https://docs.python.org/3/library/stdtypes.html)\n",
    "`>=` | Greater than or equal | [link](https://docs.python.org/3/library/stdtypes.html)\n",
    "`np.array_equal(x,y)` | Array-wise comparison | [link](https://docs.scipy.org/doc/numpy/reference/generated/numpy.array_equal.html)\n"
   ]
  },
  {
   "cell_type": "markdown",
   "metadata": {},
   "source": [
    "> ## Example"
   ]
  },
  {
   "cell_type": "code",
   "execution_count": 57,
   "metadata": {},
   "outputs": [
    {
     "name": "stdout",
     "output_type": "stream",
     "text": [
      "[ True  True  True  True  True False False False False False]\n"
     ]
    }
   ],
   "source": [
    "# Using comparison operators will create boolean NumPy arrays\n",
    "\n",
    "z = np.array([1, 2, 3, 4, 5, 6, 7, 8, 9, 10])\n",
    "c = z < 6\n",
    "print(c)"
   ]
  },
  {
   "cell_type": "markdown",
   "metadata": {},
   "source": [
    "* ## Basic Statistics"
   ]
  },
  {
   "cell_type": "markdown",
   "metadata": {},
   "source": [
    "**Operator** | **Description** | **Documentation**\n",
    "--- | --- | ---\n",
    "`np.mean(array)` | Mean | [link](https://docs.scipy.org/doc/numpy/reference/generated/numpy.mean.html#numpy.mean)  \n",
    "`np.median(array)` | Median | [link](https://docs.scipy.org/doc/numpy/reference/generated/numpy.median.html#numpy.median)\n",
    "`array.corrcoef()` | Correlation Coefficient | [link](https://docs.scipy.org/doc/numpy/reference/generated/numpy.corrcoef.html#numpy.corrcoef)\n",
    "`np.std(array)` | Standard Deviation | [link](https://docs.scipy.org/doc/numpy/reference/generated/numpy.std.html#numpy.std)"
   ]
  },
  {
   "cell_type": "markdown",
   "metadata": {},
   "source": [
    "> ## Example"
   ]
  },
  {
   "cell_type": "code",
   "execution_count": 58,
   "metadata": {},
   "outputs": [
    {
     "name": "stdout",
     "output_type": "stream",
     "text": [
      "4.293891009329417\n",
      "*************************\n",
      "6.5\n"
     ]
    }
   ],
   "source": [
    "# Statistics of an array\n",
    "a = np.array([1, 1, 2, 5, 8, 10, 11, 12])\n",
    "\n",
    "# Standard deviation\n",
    "print(np.std(a))\n",
    "print(\"*\"*25)\n",
    "\n",
    "# Median\n",
    "print(np.median(a))"
   ]
  },
  {
   "cell_type": "markdown",
   "metadata": {},
   "source": [
    "* ## More"
   ]
  },
  {
   "cell_type": "markdown",
   "metadata": {},
   "source": [
    "**Operator** | **Description** | **Documentation**\n",
    "--- | --- | ---\n",
    "`array.sum()` | Array-wise sum | [link](https://docs.scipy.org/doc/numpy/reference/generated/numpy.sum.html)  \n",
    "`array.min()` | Array-wise minimum value | [link](https://docs.scipy.org/doc/numpy/reference/generated/numpy.ndarray.min.html)\n",
    "`array.max(axis=0)` | Maximum value of specified axis |\n",
    "`array.cumsum(axis=0)` | Cumulative sum of specified axis | [link](https://docs.scipy.org/doc/numpy/reference/generated/numpy.cumsum.html)"
   ]
  },
  {
   "cell_type": "markdown",
   "metadata": {},
   "source": [
    "# Slicing and Subsetting\n",
    "---"
   ]
  },
  {
   "cell_type": "markdown",
   "metadata": {},
   "source": [
    "**Operator** | **Description** | **Documentation**\n",
    "--- | --- | ---\n",
    "`array[i]` | 1d array at index i | [link](https://docs.scipy.org/doc/numpy/reference/arrays.indexing.html)  \n",
    "`array[i,j]` | 2d array at index[i][j] | see above\n",
    "`array[i<4]` | Boolean Indexing | see above\n",
    "`array[0:3]` | Select items of index 0, 1 and 2 | see above\n",
    "`array[0:2,1]` | Select items of rows 0 and 1 at column 1 | see above\n",
    "`array[:1]` | Select items of row 0 (equals array[0:1, :]) | see above\n",
    "`array[1:2, :]` | Select items of row 1 | see above\n",
    "`[comment]: <> (` | array[1,...] | equals array[1,:,:]\n",
    "`array[ : :-1]` | Reverses array | see above"
   ]
  },
  {
   "cell_type": "markdown",
   "metadata": {},
   "source": [
    "> ## Examples"
   ]
  },
  {
   "cell_type": "code",
   "execution_count": 59,
   "metadata": {},
   "outputs": [
    {
     "name": "stdout",
     "output_type": "stream",
     "text": [
      "[3]\n",
      "*************************\n",
      "[3 6]\n",
      "*************************\n",
      "[1 2 3]\n",
      "*************************\n",
      "[3]\n",
      "*************************\n",
      "[1 4]\n",
      "*************************\n",
      "[[4 5]]\n",
      "*************************\n"
     ]
    }
   ],
   "source": [
    "b = np.array([(1, 2, 3), (4, 5, 6)])\n",
    "\n",
    "# The index *before* the comma refers to *rows*,\n",
    "# the index *after* the comma refers to *columns*\n",
    "print(b[0:1, 2])\n",
    "print(\"*\"*25)\n",
    "\n",
    "print(b[:len(b), 2])\n",
    "print(\"*\"*25)\n",
    "\n",
    "print(b[0, :])\n",
    "print(\"*\"*25)\n",
    "\n",
    "print(b[0, 2:])\n",
    "print(\"*\"*25)\n",
    "\n",
    "print(b[:, 0])\n",
    "print(\"*\"*25)\n",
    "\n",
    "c = np.array([(1, 2, 3), (4, 5, 6)])\n",
    "d = c[1:2, 0:2]\n",
    "print(d)\n",
    "print(\"*\"*25)"
   ]
  },
  {
   "cell_type": "markdown",
   "metadata": {},
   "source": [
    "# Enjoy!!!!!!!!!!!!!!!!!!!!!!!!"
   ]
  }
 ],
 "metadata": {
  "kernelspec": {
   "display_name": "Python 3",
   "language": "python",
   "name": "python3"
  },
  "language_info": {
   "codemirror_mode": {
    "name": "ipython",
    "version": 3
   },
   "file_extension": ".py",
   "mimetype": "text/x-python",
   "name": "python",
   "nbconvert_exporter": "python",
   "pygments_lexer": "ipython3",
   "version": "3.7.1"
  }
 },
 "nbformat": 4,
 "nbformat_minor": 2
}
